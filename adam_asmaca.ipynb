{
  "nbformat": 4,
  "nbformat_minor": 0,
  "metadata": {
    "colab": {
      "name": "adam_asmaca.ipynb",
      "provenance": [],
      "authorship_tag": "ABX9TyMhQnvOQ/YuScJsNPbkPdWr",
      "include_colab_link": true
    },
    "kernelspec": {
      "name": "python3",
      "display_name": "Python 3"
    }
  },
  "cells": [
    {
      "cell_type": "markdown",
      "metadata": {
        "id": "view-in-github",
        "colab_type": "text"
      },
      "source": [
        "<a href=\"https://colab.research.google.com/github/bestedoganay/bby162/blob/master/adam_asmaca.ipynb\" target=\"_parent\"><img src=\"https://colab.research.google.com/assets/colab-badge.svg\" alt=\"Open In Colab\"/></a>"
      ]
    },
    {
      "cell_type": "code",
      "metadata": {
        "id": "zdWnXScezj2Z",
        "colab_type": "code",
        "outputId": "758267fb-8ae0-46fa-ec15-1b0d1b4d63b0",
        "colab": {
          "base_uri": "https://localhost:8080/",
          "height": 204
        }
      },
      "source": [
        "__author__ = \"Beste Doğanay\"\n",
        "print(\"Adam asmaca oynamaya ne dersin ?\")\n",
        "print(\"Kelimeler için bir de ipuçların olacak. hadi başlayalım...\")\n",
        "\n",
        "import random\n",
        "kelimeler=(\"ülger\",\"kıranta\",\"aysar\",\"longaz\",\"palamar\",\"savat\",)\n",
        "secilenKelime=random.choice(kelimeler)\n",
        "kelimealani=[]\n",
        "if secilenKelime== \"ülger\":\n",
        "    print(\"kadifenin üzerindeki ince tüy.\")\n",
        "if secilenKelime== \"kıranta\":\n",
        "    print(\"saçları ağarmaya başlamış orta yaşlı erkek.\")\n",
        "if secilenKelime==\"aysar\":\n",
        "    print(\"ayın etkisiyle huyu değişen kimse.\")\n",
        "if secilenKelime==\"longaz\":\n",
        "    print(\"deniz veya ırmakta birden derineşen yer.\")\n",
        "if secilenKelime==\"palamar\":\n",
        "    print(\"gemileri iskeleye bağlamaya yarayan kalın halat\")\n",
        "if secilenKelime==\"savat\":\n",
        "    print(\"gümüş üstüne kurşunla işlenen kara nakış.\")\n",
        "\n",
        "arananHarf=0\n",
        "kalanCan=3\n",
        "for hata in secilenKelime:\n",
        "    kelimealani.append(\"_\")\n",
        "print(kelimealani)\n",
        "while kalanCan > 0:\n",
        "    girilenHarf = input(\"bir tane harf giriniz:\").lower()\n",
        "    i = girilenHarf in secilenKelime\n",
        "    if i == False:\n",
        "        kalanCan -= 1\n",
        "        print(\"Üzgünüm bu harf kelimenin içinde geçmiyor. başka bir harf dene. Kalan canınız: \" + str(kalanCan))\n",
        "    if kalanCan == 0:\n",
        "        print('Kaybettiniz. Doğru kelime \"{}\"'.format(secilenKelime))\n",
        "\n",
        "    if girilenHarf in secilenKelime:\n",
        "        for hata in secilenKelime:\n",
        "            if secilenKelime[arananHarf] == girilenHarf:\n",
        "                kelimealani[arananHarf] = girilenHarf\n",
        "            arananHarf += 1\n",
        "        print(kelimealani)\n",
        "        arananHarf = 0\n",
        "    if \"_\" not in kelimealani:\n",
        "        print(\"Tebrikler oyunu kazandınız!\")\n",
        "        break"
      ],
      "execution_count": 2,
      "outputs": [
        {
          "output_type": "stream",
          "text": [
            "Adam asmaca oynamaya ne dersin ?\n",
            "Kelimeler için bir de ipuçların olacak. hadi başlayalım...\n",
            "kadifenin üzerindeki ince tüy.\n",
            "['_', '_', '_', '_', '_']\n",
            "bir tane harf giriniz:h\n",
            "Üzgünüm bu harf kelimenin içinde geçmiyor. başka bir harf dene. Kalan canınız: 2\n",
            "bir tane harf giriniz:t\n",
            "Üzgünüm bu harf kelimenin içinde geçmiyor. başka bir harf dene. Kalan canınız: 1\n",
            "bir tane harf giriniz:y\n",
            "Üzgünüm bu harf kelimenin içinde geçmiyor. başka bir harf dene. Kalan canınız: 0\n",
            "Kaybettiniz. Doğru kelime \"ülger\"\n"
          ],
          "name": "stdout"
        }
      ]
    }
  ]
}