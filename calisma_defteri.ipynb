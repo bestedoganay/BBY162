{
  "nbformat": 4,
  "nbformat_minor": 0,
  "metadata": {
    "colab": {
      "name": "calisma_defteri.ipynb",
      "provenance": [],
      "collapsed_sections": [],
      "authorship_tag": "ABX9TyPDF446iKOyp4FXXri6Z6EV",
      "include_colab_link": true
    },
    "kernelspec": {
      "name": "python3",
      "display_name": "Python 3"
    }
  },
  "cells": [
    {
      "cell_type": "markdown",
      "metadata": {
        "id": "view-in-github",
        "colab_type": "text"
      },
      "source": [
        "<a href=\"https://colab.research.google.com/github/bestedoganay/bby162/blob/master/calisma_defteri.ipynb\" target=\"_parent\"><img src=\"https://colab.research.google.com/assets/colab-badge.svg\" alt=\"Open In Colab\"/></a>"
      ]
    },
    {
      "cell_type": "markdown",
      "metadata": {
        "id": "sdGVeHNkaEmr",
        "colab_type": "text"
      },
      "source": [
        "***Bölüm 1 Görevler***\n"
      ]
    },
    {
      "cell_type": "markdown",
      "metadata": {
        "id": "MuYQpCfoh7In",
        "colab_type": "text"
      },
      "source": [
        "**Görev 1:** Kendinizi dünyaya tanıtacak ilk bilgisayar programınızı yazın!"
      ]
    },
    {
      "cell_type": "code",
      "metadata": {
        "id": "CBHkVbIlUXgW",
        "colab_type": "code",
        "cellView": "both",
        "outputId": "d9f42bd5-2b0a-4dea-90b7-725f210ae31f",
        "colab": {
          "base_uri": "https://localhost:8080/",
          "height": 34
        }
      },
      "source": [
        "print(\" Merhaba Dünya Ben Beste Doğanay.\")"
      ],
      "execution_count": 5,
      "outputs": [
        {
          "output_type": "stream",
          "text": [
            " Merhaba Dünya Ben Beste Doğanay.\n"
          ],
          "name": "stdout"
        }
      ]
    },
    {
      "cell_type": "markdown",
      "metadata": {
        "id": "pyCyeTMHafmj",
        "colab_type": "text"
      },
      "source": [
        "**Görev 2**: Bilgisayar kodunuza yeni yorum ekleyin, kodları geçici olarak devre dışı bırakın!"
      ]
    },
    {
      "cell_type": "code",
      "metadata": {
        "id": "QzUppEjoXLPM",
        "colab_type": "code",
        "outputId": "63bc0893-80f4-4598-9e6d-25ccfb4d1a35",
        "colab": {
          "base_uri": "https://localhost:8080/",
          "height": 34
        }
      },
      "source": [
        "print(\"Merhaba!\")\n",
        " \n",
        "#bu kod satırı # sayesinde devre dışı bırakılmıştır. "
      ],
      "execution_count": 7,
      "outputs": [
        {
          "output_type": "stream",
          "text": [
            "Merhaba!\n"
          ],
          "name": "stdout"
        }
      ]
    },
    {
      "cell_type": "markdown",
      "metadata": {
        "id": "7xjBKSF9a1xu",
        "colab_type": "text"
      },
      "source": [
        "***Bölüm 2 Görevler***"
      ]
    },
    {
      "cell_type": "markdown",
      "metadata": {
        "id": "szRkWMg9idf9",
        "colab_type": "text"
      },
      "source": [
        "**Görev 1:** \"eposta\" adlı bir değişken oluşturun. Oluşturduğunuz bu değişkene bir e-posta adresi atayın. Daha sonra atadığınız bu değeri, yazdırın. Örneğin: \"E-posta: orcun[at]madran.net\""
      ]
    },
    {
      "cell_type": "code",
      "metadata": {
        "id": "RmIa5BJsZ2EI",
        "colab_type": "code",
        "outputId": "216f37a5-753b-419c-809e-bf905c67b654",
        "colab": {
          "base_uri": "https://localhost:8080/",
          "height": 34
        }
      },
      "source": [
        "eposta = \"bestedoganay[at]gmail.com\"\n",
        "print(\"mail adresi:\" + eposta)"
      ],
      "execution_count": 8,
      "outputs": [
        {
          "output_type": "stream",
          "text": [
            "mail adresi:bestedoganay[at]gmail.com\n"
          ],
          "name": "stdout"
        }
      ]
    },
    {
      "cell_type": "markdown",
      "metadata": {
        "id": "SVwQ0Tf-isfz",
        "colab_type": "text"
      },
      "source": [
        "**Görev 2:** Henüz tanımlanmamış bir değişken kullanırsanız ne olacağını kontrol edin!"
      ]
    },
    {
      "cell_type": "code",
      "metadata": {
        "id": "1W14OfkxeGuN",
        "colab_type": "code",
        "outputId": "abd47316-534d-4497-e7b6-f2079f9713d2",
        "colab": {
          "base_uri": "https://localhost:8080/",
          "height": 181
        }
      },
      "source": [
        "deneme1 = \"kahve\"\n",
        "print(arkadaş)"
      ],
      "execution_count": 10,
      "outputs": [
        {
          "output_type": "error",
          "ename": "NameError",
          "evalue": "ignored",
          "traceback": [
            "\u001b[0;31m---------------------------------------------------------------------------\u001b[0m",
            "\u001b[0;31mNameError\u001b[0m                                 Traceback (most recent call last)",
            "\u001b[0;32m<ipython-input-10-ac9a37c21535>\u001b[0m in \u001b[0;36m<module>\u001b[0;34m()\u001b[0m\n\u001b[1;32m      1\u001b[0m \u001b[0mdeneme1\u001b[0m \u001b[0;34m=\u001b[0m \u001b[0;34m\"kahve\"\u001b[0m\u001b[0;34m\u001b[0m\u001b[0;34m\u001b[0m\u001b[0m\n\u001b[0;32m----> 2\u001b[0;31m \u001b[0mprint\u001b[0m\u001b[0;34m(\u001b[0m\u001b[0markadaş\u001b[0m\u001b[0;34m)\u001b[0m\u001b[0;34m\u001b[0m\u001b[0;34m\u001b[0m\u001b[0m\n\u001b[0m",
            "\u001b[0;31mNameError\u001b[0m: name 'arkadaş' is not defined"
          ]
        }
      ]
    },
    {
      "cell_type": "markdown",
      "metadata": {
        "id": "GwLgmn1fi04Q",
        "colab_type": "text"
      },
      "source": [
        "**Görev 3:** Tanımladığınız değişkeni ekrana yazdırın!"
      ]
    },
    {
      "cell_type": "code",
      "metadata": {
        "id": "klBudKQyb_jm",
        "colab_type": "code",
        "colab": {
          "base_uri": "https://localhost:8080/",
          "height": 34
        },
        "outputId": "b351acc3-f3b2-4160-836d-be3f4cd2d250"
      },
      "source": [
        "deneme1 =\"kahve\"\n",
        "print(deneme1)"
      ],
      "execution_count": 12,
      "outputs": [
        {
          "output_type": "stream",
          "text": [
            "kahve\n"
          ],
          "name": "stdout"
        }
      ]
    },
    {
      "cell_type": "markdown",
      "metadata": {
        "id": "asiOZVmbn_TO",
        "colab_type": "text"
      },
      "source": [
        "**Görev 4:** \"sayi\" değişkeninin türünü belirleyerek ekrana yazdırın!"
      ]
    },
    {
      "cell_type": "code",
      "metadata": {
        "id": "20UujeX1cgc7",
        "colab_type": "code",
        "colab": {
          "base_uri": "https://localhost:8080/",
          "height": 34
        },
        "outputId": "f011526e-9cb6-4ade-aab3-0c15fdb4a518"
      },
      "source": [
        "sayi = 8.0\n",
        "print(type(sayi))"
      ],
      "execution_count": 13,
      "outputs": [
        {
          "output_type": "stream",
          "text": [
            "<class 'float'>\n"
          ],
          "name": "stdout"
        }
      ]
    },
    {
      "cell_type": "markdown",
      "metadata": {
        "id": "JlqtISnTcjOa",
        "colab_type": "text"
      },
      "source": [
        "**Görev 5**: Ondalık sayıyı tam sayıya dönüştürün ve ekrana değişken türünü ve değeri yazdırın!"
      ]
    },
    {
      "cell_type": "code",
      "metadata": {
        "id": "0AKhqgDGcs05",
        "colab_type": "code",
        "colab": {
          "base_uri": "https://localhost:8080/",
          "height": 51
        },
        "outputId": "8e0c1df5-6026-4c87-e8d0-c0ae1a84eab1"
      },
      "source": [
        "sayi = int(5.56)\n",
        "print(type(sayi))\n",
        "print(sayi)\n"
      ],
      "execution_count": 14,
      "outputs": [
        {
          "output_type": "stream",
          "text": [
            "<class 'int'>\n",
            "5\n"
          ],
          "name": "stdout"
        }
      ]
    },
    {
      "cell_type": "markdown",
      "metadata": {
        "id": "cp3wJfmvc2en",
        "colab_type": "text"
      },
      "source": [
        "**Görev 6**: Aşağıda değer atamaları tamamlanmış olan değişkenleri kullanarak ürünlerin peşin satın alınma bedelini TL olarak hesaplayınız ve ürün adı ile birlikte ekrana yazdırınız! İpucu: Ürün adını ve ürün bedelini tek bir satırda yazdırmak isterseniz ürün bedelini str() fonksiyonu ile düz metin değişken türüne çevirmeniz gerekir."
      ]
    },
    {
      "cell_type": "code",
      "metadata": {
        "id": "WD--MOqlc71S",
        "colab_type": "code",
        "colab": {
          "base_uri": "https://localhost:8080/",
          "height": 34
        },
        "outputId": "097f0688-bd3f-4491-bace-0ef94c2ec2a5"
      },
      "source": [
        "urunAdi = \"Araba\"\n",
        "urunBedeliAvro = 450000\n",
        "pariteAvroTL = 7\n",
        "urunAdet = 7\n",
        "pesinAdetIndirimTL = 500\n",
        "\n",
        "sonuc = urunAdet * pesinAdetIndirimTL\n",
        "print (urunAdi + \"=\" + str(sonuc))\n"
      ],
      "execution_count": 27,
      "outputs": [
        {
          "output_type": "stream",
          "text": [
            "Araba=3500\n"
          ],
          "name": "stdout"
        }
      ]
    },
    {
      "cell_type": "markdown",
      "metadata": {
        "id": "GDW3-5_zeWUd",
        "colab_type": "text"
      },
      "source": [
        "**Görev 7**: \"sayi\" değişkenine 20 ekleyip, 10 çıkartarak değişkenin güncel değerini ekrana yazdırın!"
      ]
    },
    {
      "cell_type": "code",
      "metadata": {
        "id": "9NSwOWCXeYaD",
        "colab_type": "code",
        "colab": {
          "base_uri": "https://localhost:8080/",
          "height": 34
        },
        "outputId": "c28a851e-6c68-4fe3-b95f-663be1222098"
      },
      "source": [
        "sayi = 83\n",
        "sayi += 20\n",
        "\n",
        "sayi -= 10\n",
        "print(\"sayi = \" + str(sayi))"
      ],
      "execution_count": 26,
      "outputs": [
        {
          "output_type": "stream",
          "text": [
            "sayi = 93\n"
          ],
          "name": "stdout"
        }
      ]
    },
    {
      "cell_type": "markdown",
      "metadata": {
        "id": "6ffkrQTUepdI",
        "colab_type": "text"
      },
      "source": [
        "**Görev 8**: Atamaları yapılmış olan değişkenler arasındaki eşitliği kontrol edin ve sonucu ekrana yazıdırın!"
      ]
    },
    {
      "cell_type": "code",
      "metadata": {
        "id": "nqCvRl9Zer33",
        "colab_type": "code",
        "colab": {
          "base_uri": "https://localhost:8080/",
          "height": 34
        },
        "outputId": "0b3de387-85d6-4e38-aa67-823f85703dee"
      },
      "source": [
        "sifre = \"bby162\"\n",
        "sifreTekrar = \"bilgi belge 162\"\n",
        "esitmi = (sifre == sifreTekrar)\n",
        "print(esitmi) #değişken türü \"false\" olarak dönüyor."
      ],
      "execution_count": 28,
      "outputs": [
        {
          "output_type": "stream",
          "text": [
            "False\n"
          ],
          "name": "stdout"
        }
      ]
    },
    {
      "cell_type": "markdown",
      "metadata": {
        "id": "_r9b1G23e63r",
        "colab_type": "text"
      },
      "source": [
        "**Görev 9**: Aşağıda değer atamaları tamamlanmış olan değişkenleri kullanarak ürünlerin peşin satın alınma bedelini TL olarak hesaplayın. Toplam satın alma bedeli ile bütçenizi karşılaştırın. Satın alma bedelini ve bütçenizi ekrana yazdırın. Ödeme bütçenizi aşıyorsa ekrana \"False\", aşmıyorsa \"True\" yazdırın."
      ]
    },
    {
      "cell_type": "code",
      "metadata": {
        "id": "_e2cC6yAe9n6",
        "colab_type": "code",
        "colab": {
          "base_uri": "https://localhost:8080/",
          "height": 34
        },
        "outputId": "9311cb4e-675b-4b64-f0dc-ffe826024a62"
      },
      "source": [
        "urunAdi = \"Araba\"\n",
        "urunBedeliAvro = 45000\n",
        "kurAvro = 7\n",
        "urunAdet = 7\n",
        "pesinAdetIndirimTL = 500\n",
        "butce = 150000\n",
        "\n",
        "sayi = urunAdet * pesinAdetIndirimTL\n",
        "\n",
        "print(sayi<butce)"
      ],
      "execution_count": 29,
      "outputs": [
        {
          "output_type": "stream",
          "text": [
            "True\n"
          ],
          "name": "stdout"
        }
      ]
    },
    {
      "cell_type": "markdown",
      "metadata": {
        "id": "lhj_xV-Nfekr",
        "colab_type": "text"
      },
      "source": [
        "***Bölüm 3***"
      ]
    },
    {
      "cell_type": "markdown",
      "metadata": {
        "id": "n9rA4HAHNqI7",
        "colab_type": "text"
      },
      "source": [
        "**Görev 1:** *ad*, *soyad* ve *hitap* değişkenlerini tek bir çıktıda birleştirecek kodu yazın! "
      ]
    },
    {
      "cell_type": "code",
      "metadata": {
        "id": "J8wAu6IIfuEf",
        "colab_type": "code",
        "colab": {
          "base_uri": "https://localhost:8080/",
          "height": 34
        },
        "outputId": "d3ec5374-8b4c-440d-d0ac-00eecdd6a0e4"
      },
      "source": [
        "hitap = \"MRS\"\n",
        "ad = \"BESTE\"\n",
        "soyad = \"DOĞANAY\"\n",
        "\n",
        "sonuc = hitap + \" \" + ad + \" \" + soyad\n",
        "print(sonuc)\n",
        "# Çıktı: MRS BESTE DOĞANAY"
      ],
      "execution_count": 30,
      "outputs": [
        {
          "output_type": "stream",
          "text": [
            "MRS BESTE DOĞANAY\n"
          ],
          "name": "stdout"
        }
      ]
    },
    {
      "cell_type": "markdown",
      "metadata": {
        "id": "-TDsI9oTgJqO",
        "colab_type": "text"
      },
      "source": [
        "**Görev 2**: Sizi sürekli bekleten arkadaşınızı uyarabilmek için istediğiniz sayıda \"Hadi!\" kelimesini ekrana yazdırın!"
      ]
    },
    {
      "cell_type": "code",
      "metadata": {
        "id": "tR-pSptrgLyT",
        "colab_type": "code",
        "colab": {
          "base_uri": "https://localhost:8080/",
          "height": 34
        },
        "outputId": "30bdcae8-0af7-4ef3-95e0-56c8d8260106"
      },
      "source": [
        "metin = \"Hadi! \"\n",
        "metinsonucu= metin * 13\n",
        "print(metinsonucu)\n",
        "# Çıktı: Hadi! Hadi! Hadi! Hadi! ... Hadi!"
      ],
      "execution_count": 31,
      "outputs": [
        {
          "output_type": "stream",
          "text": [
            "Hadi! Hadi! Hadi! Hadi! Hadi! Hadi! Hadi! Hadi! Hadi! Hadi! Hadi! Hadi! Hadi! \n"
          ],
          "name": "stdout"
        }
      ]
    },
    {
      "cell_type": "markdown",
      "metadata": {
        "id": "cL_1sI_1gTmj",
        "colab_type": "text"
      },
      "source": [
        "**Görev 3**: İndeks numarasını kullanarak metin katarındaki ikinci \"P\" harfini ekrana yazdırın!\n",
        "\n"
      ]
    },
    {
      "cell_type": "code",
      "metadata": {
        "id": "jbExR4j_gVR3",
        "colab_type": "code",
        "colab": {
          "base_uri": "https://localhost:8080/",
          "height": 34
        },
        "outputId": "5cf35aba-98da-4dd5-fb7d-15d106d3e92b"
      },
      "source": [
        "metin = \"Python Programlama Dili\"\n",
        "print ( \"p \" + metin[7]) #metnin içereisinde boşluk olduğu için buda karakter olarak algılanır 7 yazarak 2. p harfine ulaşırız.\n",
        "\n",
        "# Çıktı: P"
      ],
      "execution_count": 32,
      "outputs": [
        {
          "output_type": "stream",
          "text": [
            "p P\n"
          ],
          "name": "stdout"
        }
      ]
    },
    {
      "cell_type": "markdown",
      "metadata": {
        "id": "POFOHniRhAfd",
        "colab_type": "text"
      },
      "source": [
        "**Görev 4**: Metin katarının sonunda yer alan \"i\" harfini ekrana yazdırın!"
      ]
    },
    {
      "cell_type": "code",
      "metadata": {
        "id": "W7S6_aWihFCM",
        "colab_type": "code",
        "colab": {
          "base_uri": "https://localhost:8080/",
          "height": 34
        },
        "outputId": "7e6a43e3-22e9-4f8f-bc29-1aeff95c2ae0"
      },
      "source": [
        "metin = \"Python Programlama Dili\"\n",
        "harf = metin[-1]\n",
        "print(harf)\n",
        "#Çıktı: i"
      ],
      "execution_count": 33,
      "outputs": [
        {
          "output_type": "stream",
          "text": [
            "i\n"
          ],
          "name": "stdout"
        }
      ]
    },
    {
      "cell_type": "markdown",
      "metadata": {
        "id": "Z9pou9YKhNIA",
        "colab_type": "text"
      },
      "source": [
        "**Görev 5**: Metin katarını dilemleyerek katarda yer alan üç kelimeyi de ayrı ayrı (alt alta) ekrana yazdırın!."
      ]
    },
    {
      "cell_type": "code",
      "metadata": {
        "id": "KyKnhNkmhPQy",
        "colab_type": "code",
        "colab": {
          "base_uri": "https://localhost:8080/",
          "height": 68
        },
        "outputId": "b4fb5d44-cef1-4dc8-bde6-6a63010c386d"
      },
      "source": [
        "metin = \"Python Programlama Dili\"\n",
        "print(metin[:7])\n",
        "print(metin[7:18])\n",
        "print(metin[19:24])\n",
        "# Çıktı:\n",
        "# Python\n",
        "# Programlama\n",
        "# Dili"
      ],
      "execution_count": 34,
      "outputs": [
        {
          "output_type": "stream",
          "text": [
            "Python \n",
            "Programlama\n",
            "Dili\n"
          ],
          "name": "stdout"
        }
      ]
    },
    {
      "cell_type": "markdown",
      "metadata": {
        "id": "VVelpN84hWO9",
        "colab_type": "text"
      },
      "source": [
        "**Görev 6**: Metin katarında \"Python\" kelimesinin geçip geçmediğini kontrol ederek ekrana yazdırın!"
      ]
    },
    {
      "cell_type": "code",
      "metadata": {
        "id": "WGNJAubLhZFp",
        "colab_type": "code",
        "colab": {
          "base_uri": "https://localhost:8080/",
          "height": 34
        },
        "outputId": "65d1a210-a0df-42b1-be8d-956fb5dc25e5"
      },
      "source": [
        "metin = \"Python Programlama Dili\"\n",
        "print(\"Python\" in metin)\n",
        "\n",
        "# Çıktı: True"
      ],
      "execution_count": 35,
      "outputs": [
        {
          "output_type": "stream",
          "text": [
            "True\n"
          ],
          "name": "stdout"
        }
      ]
    },
    {
      "cell_type": "markdown",
      "metadata": {
        "id": "VNP_psAhhg6a",
        "colab_type": "text"
      },
      "source": [
        "**Görev 7**: Metin katarındaki cümlenin ilk yarısını ekrana yazdırın!"
      ]
    },
    {
      "cell_type": "code",
      "metadata": {
        "id": "lMBQpSKHhih9",
        "colab_type": "code",
        "colab": {
          "base_uri": "https://localhost:8080/",
          "height": 34
        },
        "outputId": "c8a4f6d8-e753-41c3-f000-d5fd3218989f"
      },
      "source": [
        "metin = \"Python programlama dili, dünyada eğitim amacıyla en çok kullanılan programlama dillerinin başında gelir.\"\n",
        "sonuc= metin[:int(len(metin)/2)]\n",
        "print(sonuc)\n",
        "# Çıktı: Python programlama dili, dünyada eğitim amacıyla en "
      ],
      "execution_count": 36,
      "outputs": [
        {
          "output_type": "stream",
          "text": [
            "Python programlama dili, dünyada eğitim amacıyla en \n"
          ],
          "name": "stdout"
        }
      ]
    },
    {
      "cell_type": "markdown",
      "metadata": {
        "id": "AhEaJvYph0ac",
        "colab_type": "text"
      },
      "source": [
        "**Görev 8**: Metin katarındaki cümlede yer alan noktalama işaretlerinden uygun şekilde kaçarak cümleyi ekrana yazdırın!"
      ]
    },
    {
      "cell_type": "code",
      "metadata": {
        "id": "6ZEPMgZmh3Ja",
        "colab_type": "code",
        "colab": {
          "base_uri": "https://localhost:8080/",
          "height": 34
        },
        "outputId": "e2509be2-cf33-4fa8-a63c-28f5cd7e771c"
      },
      "source": [
        "metin = 'Bilimsel çalışmalarda \"Python\" kullanımı Türkiye\\'de çok yaygınlaştı!'\n",
        "print(metin)"
      ],
      "execution_count": 38,
      "outputs": [
        {
          "output_type": "stream",
          "text": [
            "Bilimsel çalışmalarda \"Python\" kullanımı Türkiye'de çok yaygınlaştı!\n"
          ],
          "name": "stdout"
        }
      ]
    },
    {
      "cell_type": "markdown",
      "metadata": {
        "id": "x6IjaeQ-iIYr",
        "colab_type": "text"
      },
      "source": [
        "**Görev 9**: anahtarKelime ve arananKelime değişkenlerinde yer alan metinler karşılaştırıldığında birbirlerine eşit (==) olmalarını sağlayın ve dönen değerin \"True\" olmasını sağlayın!"
      ]
    },
    {
      "cell_type": "code",
      "metadata": {
        "id": "lcFHuFuniJ_n",
        "colab_type": "code",
        "colab": {
          "base_uri": "https://localhost:8080/",
          "height": 34
        },
        "outputId": "42446683-1a0e-4677-d704-5f9952658f06"
      },
      "source": [
        "anahtarKelime = \"Makine Öğrenmesi\"\n",
        "arananKelime = \"makine öğrenmesi\"\n",
        "\n",
        "print(anahtarKelime.upper() == arananKelime.upper()) # Çıktı: True"
      ],
      "execution_count": 39,
      "outputs": [
        {
          "output_type": "stream",
          "text": [
            "True\n"
          ],
          "name": "stdout"
        }
      ]
    },
    {
      "cell_type": "markdown",
      "metadata": {
        "id": "TKHNGdvFiTAJ",
        "colab_type": "text"
      },
      "source": [
        "**Görev 10**: Merhaba Orçun Madran, bu dönemki dersiniz \"Programlama Dilleri\". Başarılar! cümlesini ekrana biçimlendirmeyi kullanarak (artı işaretini kullanmadan) yazdırın!"
      ]
    },
    {
      "cell_type": "code",
      "metadata": {
        "id": "ME5P3x9KiUeO",
        "colab_type": "code",
        "colab": {
          "base_uri": "https://localhost:8080/",
          "height": 34
        },
        "outputId": "07fdf568-56ed-4d56-e256-9868d53a0d3d"
      },
      "source": [
        "ad = \"Orçun\"\n",
        "soyad = \"Madran\"\n",
        "ders = \"Programlama Dilleri\"\n",
        "print(\"Merhaba, %s %s, bu dönemki dersiniz %s. Başarılar!\" % ( ad, soyad ,ders) )\n",
        "# Çıktı: Merhaba Orçun Madran, bu dönemki dersiniz \"Programlama Dilleri\". Başarılar!"
      ],
      "execution_count": 40,
      "outputs": [
        {
          "output_type": "stream",
          "text": [
            "Merhaba, Orçun Madran, bu dönemki dersiniz Programlama Dilleri. Başarılar!\n"
          ],
          "name": "stdout"
        }
      ]
    },
    {
      "cell_type": "markdown",
      "metadata": {
        "id": "EZvE5UknigRr",
        "colab_type": "text"
      },
      "source": [
        "***Bölüm 4***"
      ]
    },
    {
      "cell_type": "markdown",
      "metadata": {
        "id": "ZkgDCBcSimUx",
        "colab_type": "text"
      },
      "source": [
        "**Görev 1**: acikListe içinde yer alan 3. liste öğesini ekrana yazıdırın!"
      ]
    },
    {
      "cell_type": "code",
      "metadata": {
        "id": "7PFi_4c6iuVL",
        "colab_type": "code",
        "colab": {
          "base_uri": "https://localhost:8080/",
          "height": 34
        },
        "outputId": "d1e75a10-20e2-4c9d-e796-90cd0e19cfc2"
      },
      "source": [
        "acikListe = [\"Açık Bilim\", \"Açık Erişim\", \"Açık Veri\", \"Açık Eğitim\", \"Açık Kaynak\"]\n",
        "print(acikListe[2])"
      ],
      "execution_count": 41,
      "outputs": [
        {
          "output_type": "stream",
          "text": [
            "Açık Veri\n"
          ],
          "name": "stdout"
        }
      ]
    },
    {
      "cell_type": "markdown",
      "metadata": {
        "id": "Y96MjohpiyzR",
        "colab_type": "text"
      },
      "source": [
        "**Görev 2**: bilgiBilim adlı bir liste oluşturun. Bu listeye bilgi bilim disiplini ile ilgili 3 adet anahtar kelime ya da kavram ekleyin. Bu listeyi ekrana yazdırın. Listeye istediğiniz bir yöntem ile (append(), +=) 2 yeni öğe ekleyin. Ekrana listenin son durumunu yazdırın. Listenizdeki son öğeyi değiştirin. Listenin son halini ekrana yazıdırn."
      ]
    },
    {
      "cell_type": "code",
      "metadata": {
        "id": "7XyK8k3fi01I",
        "colab_type": "code",
        "colab": {
          "base_uri": "https://localhost:8080/",
          "height": 51
        },
        "outputId": "ea019304-a1ce-4d07-d6e9-1be76aa84ddc"
      },
      "source": [
        "bilgiBilim = [\"bilgisayar\", \"programlama\",\"kodlama\"]\n",
        "print(bilgiBilim)\n",
        "\n",
        "bilgiBilim += [\"veri\",\"analiz\"]\n",
        "print(bilgiBilim)"
      ],
      "execution_count": 42,
      "outputs": [
        {
          "output_type": "stream",
          "text": [
            "['bilgisayar', 'programlama', 'kodlama']\n",
            "['bilgisayar', 'programlama', 'kodlama', 'veri', 'analiz']\n"
          ],
          "name": "stdout"
        }
      ]
    },
    {
      "cell_type": "markdown",
      "metadata": {
        "id": "CMB9EGS2i5mp",
        "colab_type": "text"
      },
      "source": [
        "**Görev 3**: Önceki görevde oluşturulan \"bilgiBilim\" adlı listenin istediğiniz öğesini silerek listenin güncel halini ekrana yazdırın. Listeyi tamamen temizleyerek listenin güncel halini ekrana yazdırın."
      ]
    },
    {
      "cell_type": "code",
      "metadata": {
        "id": "3irIp7eejCnB",
        "colab_type": "code",
        "colab": {
          "base_uri": "https://localhost:8080/",
          "height": 51
        },
        "outputId": "9aa35b14-5c1d-4f93-da40-c2092324aff4"
      },
      "source": [
        "bilgiBilim = ['bilgisayar', 'programlama', 'kodlama', 'veri', 'analiz']\n",
        "bilgiBilim [2:3] = [] #listeki 3. kelime siilinir\n",
        "print(bilgiBilim)\n",
        "bilgiBilim[:] = [] #bütün liste silinir.\n",
        "print(bilgiBilim)"
      ],
      "execution_count": 43,
      "outputs": [
        {
          "output_type": "stream",
          "text": [
            "['bilgisayar', 'programlama', 'veri', 'analiz']\n",
            "[]\n"
          ],
          "name": "stdout"
        }
      ]
    },
    {
      "cell_type": "markdown",
      "metadata": {
        "id": "9apnS9YUjQDD",
        "colab_type": "text"
      },
      "source": [
        "**Görev 4**: Kongre Kütüphanesi konu başlıkları listesinin kodlarından oluşan bir demet oluşturun ve ekrana yazdırın! Oluşturulan demet içindeki tek bir öğeyi ekrana yazdırın!"
      ]
    },
    {
      "cell_type": "code",
      "metadata": {
        "id": "-E_9CiX5jb9U",
        "colab_type": "code",
        "colab": {
          "base_uri": "https://localhost:8080/",
          "height": 51
        },
        "outputId": "14dbc00b-b1d1-4937-c2ba-2e4e95abf309"
      },
      "source": [
        "konubaslıkları =(\"GV\",\"NA\",\"JK\")\n",
        "print(konubaslıkları)\n",
        "print(konubaslıkları[2])"
      ],
      "execution_count": 44,
      "outputs": [
        {
          "output_type": "stream",
          "text": [
            "('GV', 'NA', 'JK')\n",
            "JK\n"
          ],
          "name": "stdout"
        }
      ]
    },
    {
      "cell_type": "markdown",
      "metadata": {
        "id": "nWFoY3_Uj6_M",
        "colab_type": "text"
      },
      "source": [
        "**Görev 5**: İstediğin herhangi bir konuda 5 öğeye sahip bir sözlük oluştur. Sözlüğü ekrana yazdır. Sözlükteki belirli bir öğeyi ekrana yazdır. Sözlükteki belirli bir öğeyi silerek sözlüğün güncel halini ekrana yazdır!"
      ]
    },
    {
      "cell_type": "code",
      "metadata": {
        "id": "Xxs48zVNj9EE",
        "colab_type": "code",
        "colab": {
          "base_uri": "https://localhost:8080/",
          "height": 51
        },
        "outputId": "7008a936-90c1-4c5e-ac25-650f38bbee95"
      },
      "source": [
        "sozluk ={\"KUTAY\": \"Kutlu\", \"KÜBRA\" : \"ulu\",\"KAMELYA\": \"süs bitkisi\",\"KUMSAL\": \"deniz kıyısı\",\"KADER\": \"Alınyazısı\"}\n",
        "print(sozluk)\n",
        "\n",
        "del sozluk [\"KUTAY\"]\n",
        "print(sozluk)"
      ],
      "execution_count": 46,
      "outputs": [
        {
          "output_type": "stream",
          "text": [
            "{'KUTAY': 'Kutlu', 'KÜBRA': 'ulu', 'KAMELYA': 'süs bitkisi', 'KUMSAL': 'deniz kıyısı', 'KADER': 'Alınyazısı'}\n",
            "{'KÜBRA': 'ulu', 'KAMELYA': 'süs bitkisi', 'KUMSAL': 'deniz kıyısı', 'KADER': 'Alınyazısı'}\n"
          ],
          "name": "stdout"
        }
      ]
    },
    {
      "cell_type": "markdown",
      "metadata": {
        "id": "Ir2l7m_AlBI0",
        "colab_type": "text"
      },
      "source": [
        "**Görev 6**: İstediğin bir konuda istediğin öğe saysına sahip bir sözlük oluştur. Sözlükler ile ilgili farklı fonksiyoları dene. Sonuçları ekrana yazdır!"
      ]
    },
    {
      "cell_type": "code",
      "metadata": {
        "id": "eitzIToulIIY",
        "colab_type": "code",
        "colab": {
          "base_uri": "https://localhost:8080/",
          "height": 68
        },
        "outputId": "c15e9791-0944-4755-fe18-79f23a97c5de"
      },
      "source": [
        "denemesozluk = {\"AYŞE\": \"kız ismi\", \"ALİ\": \"erkek ismi\", \"TÜLİN\":\"kız ismi\", \"OSMAN\":\"erkek ismi\"}\n",
        "print(denemesozluk)\n",
        "\n",
        "print(denemesozluk.values())\n",
        "\n",
        "print(denemesozluk.keys())"
      ],
      "execution_count": 47,
      "outputs": [
        {
          "output_type": "stream",
          "text": [
            "{'AYŞE': 'kız ismi', 'ALİ': 'erkek ismi', 'TÜLİN': 'kız ismi', 'OSMAN': 'erkek ismi'}\n",
            "dict_values(['kız ismi', 'erkek ismi', 'kız ismi', 'erkek ismi'])\n",
            "dict_keys(['AYŞE', 'ALİ', 'TÜLİN', 'OSMAN'])\n"
          ],
          "name": "stdout"
        }
      ]
    },
    {
      "cell_type": "markdown",
      "metadata": {
        "id": "4empY84TldZX",
        "colab_type": "text"
      },
      "source": [
        "**Görev 7**: Bir liste ve bir sözlük oluşturun. Liste içinde istediğiniz kelimeyi aratın ve sonucunu ekrana yazdırın! Oluşturduğunuz sözlüğün içinde hem anahtar kelime (keys()) hem de değer (values()) kontrolü yaptırın ve sonucunu ekrana yazdırın!"
      ]
    },
    {
      "cell_type": "code",
      "metadata": {
        "id": "OyDCvP5glfFc",
        "colab_type": "code",
        "colab": {
          "base_uri": "https://localhost:8080/",
          "height": 51
        },
        "outputId": "bb7379f5-1bac-4806-d7b4-b0e4887f2c9e"
      },
      "source": [
        "müzikAletleri = [\"bağlama\", \"keman\", \"gitar\", \"ney\", \"tef\"]\n",
        "print(\"keman\" in müzikAletleri)\n",
        "\n",
        "müzikAletleri2 = { \"bağlama\": \"7 telli\" , \"keman\":\"4 telli\" , \"gitar\":\"6 telli\" , \"ney\":\"üflemeli çalgı\" , \"tef\":\"vurmalı çalgı\" }\n",
        "print(\"7 telli\" in müzikAletleri2.values())"
      ],
      "execution_count": 51,
      "outputs": [
        {
          "output_type": "stream",
          "text": [
            "True\n",
            "True\n"
          ],
          "name": "stdout"
        }
      ]
    },
    {
      "cell_type": "markdown",
      "metadata": {
        "id": "bSdQfQTim8km",
        "colab_type": "text"
      },
      "source": [
        "***Bölüm 5***"
      ]
    },
    {
      "cell_type": "markdown",
      "metadata": {
        "id": "--IzZFvUnC-Q",
        "colab_type": "text"
      },
      "source": [
        "**Görev 1**: Klavyeden girilen kullanıcı adı ve şifrenin kayıtlı bulunan kullanıcı adı ve şifre ile uyuşup uyuşmadığını kontrol edin ve sonucu ekrana yazdırın!"
      ]
    },
    {
      "cell_type": "code",
      "metadata": {
        "id": "6MivtzKRnLY6",
        "colab_type": "code",
        "colab": {
          "base_uri": "https://localhost:8080/",
          "height": 68
        },
        "outputId": "7692cc95-dda6-469c-d2c8-65ba632043a4"
      },
      "source": [
        "#Sistemde ki bilgiler:\n",
        "sisKulAdi = \"admin\"\n",
        "sisKulSifre = \"bby162\"\n",
        "\n",
        "#girilen bilgiler:\n",
        "girKulAdi = input(\"Kullanıcı Adı: \")\n",
        "girKulSifre = input(\"Şifre: \")\n",
        "\n",
        "#Sonuç\n",
        "print(girKulAdi == \"admin\" and girKulSifre == \"bby162\")"
      ],
      "execution_count": 60,
      "outputs": [
        {
          "output_type": "stream",
          "text": [
            "Kullanıcı Adı: admin\n",
            "Şifre: bby162\n",
            "True\n"
          ],
          "name": "stdout"
        }
      ]
    },
    {
      "cell_type": "markdown",
      "metadata": {
        "id": "hwoLKtEjpMpy",
        "colab_type": "text"
      },
      "source": [
        ""
      ]
    },
    {
      "cell_type": "markdown",
      "metadata": {
        "id": "jqFMH0DRnsko",
        "colab_type": "text"
      },
      "source": [
        "**Görev 2**: \"acikSozluk\" içinde yer alan anahtarları (keys) kullanarak eğer klavyeden girilen anahtar kelime sözlükte varsa açıklamasını ekrana yazdırın!"
      ]
    },
    {
      "cell_type": "code",
      "metadata": {
        "id": "9JtvcIFjnxfR",
        "colab_type": "code",
        "colab": {
          "base_uri": "https://localhost:8080/",
          "height": 34
        },
        "outputId": "10089c1c-d472-4191-9ba1-d3dd1e904a21"
      },
      "source": [
        "acikSozluk = {\n",
        "    \"Açık Bilim\" : \"Bilimsel bilgi kamu malıdır. Bilimsel yayınlara ve verilere açık erişim bir haktır.\" ,\n",
        "    \"Açık Erişim\" : \"Kamu kaynakları ile yapılan araştırmalar sonucunda üretilen yayınlara ücretsiz erişim\" ,\n",
        "    \"Açık Veri\" : \"Kamu kaynakları ile yapılan araştırma sonucunda üretilen verilere ücretsiz ve yeniden kullanılabilir biçimde erişim\" \n",
        "    }\n",
        "anahtar = input(\"Anahtar Kelime: \")\n",
        "\n",
        "#If\n",
        "if anahtar in acikSozluk:\n",
        "  print(anahtar + \" sözlük içinde var\")"
      ],
      "execution_count": 54,
      "outputs": [
        {
          "output_type": "stream",
          "text": [
            "Anahtar Kelime: e\n"
          ],
          "name": "stdout"
        }
      ]
    },
    {
      "cell_type": "markdown",
      "metadata": {
        "id": "RUz0X9_yn529",
        "colab_type": "text"
      },
      "source": [
        "**Görev 3**: Klavyeden girilen yaş bilgisini kullanarak ekrana aşağıdaki mesajları yazdır:\n",
        "\n",
        "21 yaş altı ve 64 yaş üstü kişilere: \"Sokağa çıkma yasağı bulunmaktadır!\"\n",
        "Diğer tüm kişilere: \"Sokağa çıkma yasağı yoktur!\"\n",
        "Klavyeden yaş harici bir bilgi girişi yapıldığında: \"Yaşınızı rakam olarak giriniz!\"\n"
      ]
    },
    {
      "cell_type": "code",
      "metadata": {
        "id": "9PCpiHpWn7tp",
        "colab_type": "code",
        "colab": {
          "base_uri": "https://localhost:8080/",
          "height": 51
        },
        "outputId": "2451fb13-daa1-4e74-c1bb-02e2f1cc48eb"
      },
      "source": [
        "yas = int(input(\"Yaşınızı giriniz: \"))\n",
        "if yas <21 or yas >65:\n",
        "  print(\"sokağa çıkma yasağı bulunmaktadır!\")\n",
        "elif yas >21 or yas <65:\n",
        "  print(\"sokaga çıkma yasağı yoktur\")\n",
        "else:\n",
        "  print(\"yaşınızı rakam olarak yazınız\")\n",
        "\n"
      ],
      "execution_count": 55,
      "outputs": [
        {
          "output_type": "stream",
          "text": [
            "Yaşınızı giriniz: 34\n",
            "sokaga çıkma yasağı yoktur\n"
          ],
          "name": "stdout"
        }
      ]
    },
    {
      "cell_type": "markdown",
      "metadata": {
        "id": "7YAFR_MEoCn-",
        "colab_type": "text"
      },
      "source": [
        "***Bölüm 6***"
      ]
    },
    {
      "cell_type": "markdown",
      "metadata": {
        "id": "hSYuC7ZboFQS",
        "colab_type": "text"
      },
      "source": [
        "**Görev 1**: Bir liste oluşturun. Liste öğelerini \"for\" döngüsü kullanarak ekrana yazdırın!"
      ]
    },
    {
      "cell_type": "code",
      "metadata": {
        "id": "zJ7zIuRWoLDO",
        "colab_type": "code",
        "colab": {
          "base_uri": "https://localhost:8080/",
          "height": 85
        },
        "outputId": "a94f010d-52c8-4c24-ea31-dbf39f9d6896"
      },
      "source": [
        "#liste\n",
        "yazmeyveleri =[\"çilek\", \"erik\", \"yenidünya\", \"karpuz\"]\n",
        "for i in yazmeyveleri:\n",
        "  print(i)"
      ],
      "execution_count": 56,
      "outputs": [
        {
          "output_type": "stream",
          "text": [
            "çilek\n",
            "erik\n",
            "yenidünya\n",
            "karpuz\n"
          ],
          "name": "stdout"
        }
      ]
    },
    {
      "cell_type": "markdown",
      "metadata": {
        "id": "-ewxQCBuob1A",
        "colab_type": "text"
      },
      "source": [
        "**Görev 2**: İçinde metin katarı bulunan bir değişken oluşturun. Bu değişkende yer alan her bir harfi bir satıra gelecek şekilde \"for\" döngüsü ile ekrana yazdırın!"
      ]
    },
    {
      "cell_type": "code",
      "metadata": {
        "id": "laORARUiodwo",
        "colab_type": "code",
        "colab": {
          "base_uri": "https://localhost:8080/",
          "height": 510
        },
        "outputId": "f178b2b7-ba15-4ca6-8a38-785bfadb6f09"
      },
      "source": [
        "#degisken\n",
        "deyim =\"üzüm üzüme baka baka kararır!\"\n",
        "for harf in deyim:\n",
        "  print (harf)\n"
      ],
      "execution_count": 57,
      "outputs": [
        {
          "output_type": "stream",
          "text": [
            "ü\n",
            "z\n",
            "ü\n",
            "m\n",
            " \n",
            "ü\n",
            "z\n",
            "ü\n",
            "m\n",
            "e\n",
            " \n",
            "b\n",
            "a\n",
            "k\n",
            "a\n",
            " \n",
            "b\n",
            "a\n",
            "k\n",
            "a\n",
            " \n",
            "k\n",
            "a\n",
            "r\n",
            "a\n",
            "r\n",
            "ı\n",
            "r\n",
            "!\n"
          ],
          "name": "stdout"
        }
      ]
    },
    {
      "cell_type": "markdown",
      "metadata": {
        "id": "c4dvpQBHpU6C",
        "colab_type": "text"
      },
      "source": [
        "**Görev 3**: Tahmin Oyunu\n",
        "\n",
        "\"while\" döngüsü kullanarak bir tahmin oyunu tasarla. Bu tahmin oyununda, önceden belirlenmiş olan kelime ile klavyeden girilen kelime karşılaştırılmalı, tahmin doğru ise oyun \"Bildiniz..!\" mesajı ile sonlanmalı, yanlış ise tahmin hakkı bir daha verilmeli."
      ]
    },
    {
      "cell_type": "code",
      "metadata": {
        "id": "hJ5DkOk1pfTK",
        "colab_type": "code",
        "colab": {
          "base_uri": "https://localhost:8080/",
          "height": 187
        },
        "outputId": "75a5d946-ca0d-46d5-cb24-eeb9dda12b20"
      },
      "source": [
        "from random import randint\n",
        "\n",
        "\n",
        "kelime_listesi = [\"çilek\", \"mango\", \"ananas\", \"erik\", \"kayısı\"]\n",
        "tahmin= random.choice(kelime_listesi) \n",
        "    \n",
        "\n",
        " \n",
        "while True:\n",
        "  \n",
        "    deger=input((\"bir kelime giriniz (0 çıkış):\"))\n",
        "    if(deger==tahmin):\n",
        "        print(\"bildiniz\")\n",
        "        break\n",
        "    elif deger != tahmin:\n",
        "        print(\"kelime doğru değil\")\n",
        "        continue\n",
        "    elif deger == tahmin:\n",
        "        print(\"kelime doğru\")\n",
        "        continue\n",
        "    else:\n",
        "        print(\"girilen kelime {0}!\".format(tahmin))\n",
        "  \n",
        "      \n",
        "          \n",
        "\n",
        "      "
      ],
      "execution_count": 17,
      "outputs": [
        {
          "output_type": "stream",
          "text": [
            "bir kelime giriniz (0 çıkış):erik\n",
            "kelime doğru değil\n",
            "bir kelime giriniz (0 çıkış):çilek\n",
            "kelime doğru değil\n",
            "bir kelime giriniz (0 çıkış):ananas\n",
            "kelime doğru değil\n",
            "bir kelime giriniz (0 çıkış):kayısı\n",
            "kelime doğru değil\n",
            "bir kelime giriniz (0 çıkış):mango\n",
            "bildiniz\n"
          ],
          "name": "stdout"
        }
      ]
    },
    {
      "cell_type": "markdown",
      "metadata": {
        "id": "QNSv_Yi0pnvx",
        "colab_type": "text"
      },
      "source": [
        "***Bölüm 7***"
      ]
    },
    {
      "cell_type": "markdown",
      "metadata": {
        "id": "hyc6qxMjpzUn",
        "colab_type": "text"
      },
      "source": [
        "Görev 1: karsila fonksiyonunun tetiklenmesi için gerekli kod ve parametleri ekle!"
      ]
    },
    {
      "cell_type": "code",
      "metadata": {
        "id": "aKEO46Pqp0xI",
        "colab_type": "code",
        "colab": {
          "base_uri": "https://localhost:8080/",
          "height": 34
        },
        "outputId": "f758f6dc-d17d-4993-931f-06c137998a1b"
      },
      "source": [
        "def karsila(kAd, kSoyad):\n",
        "  print(\"Hoşgeldin, %s %s\" % (kAd, kSoyad))\n",
        "karsila(\"Beste\",\"Doğanay\")\n"
      ],
      "execution_count": 61,
      "outputs": [
        {
          "output_type": "stream",
          "text": [
            "Hoşgeldin, Beste Doğanay\n"
          ],
          "name": "stdout"
        }
      ]
    },
    {
      "cell_type": "markdown",
      "metadata": {
        "id": "uGUjjkiaqOOj",
        "colab_type": "text"
      },
      "source": [
        "Görev 2: Bu görev genel olarak fonksiyon bölümünü kapsamaktadır.\n",
        "\n",
        "Daha önce yapmış olduğunuz \"Adam Asmaca\" projesini (ya da aşağıda yer alan örneği) fonksiyonlar kullanarak oyun bittiğinde tekrar başlatmaya gerek duyulmadan yeniden oynanabilmesine imkan sağlayacak şekilde yeniden kurgulayın.\n",
        "\n",
        "Oyunun farklı sekansları için farklı fonksiyonlar tanımlayarak oyunu daha optimize hale getirmeye çalışın.\n",
        "\n",
        "Aşağıda bir adam asmaca oyununun temel özellikerine sahip bir örnek yer almaktadır."
      ]
    },
    {
      "cell_type": "code",
      "metadata": {
        "id": "Rl5T4J3DqWPt",
        "colab_type": "code",
        "colab": {
          "base_uri": "https://localhost:8080/",
          "height": 255
        },
        "outputId": "a388e50d-98a2-409a-8c21-39a91a8d5e41"
      },
      "source": [
        "import random\n",
        "kelimeler =([\"çilek\",\"yenidünya\",\"avakado\",\"mango\",\"kumkuat\"])\n",
        "\n",
        "hak = 3\n",
        "i=0\n",
        "\n",
        "secilenKelime=random.choice(kelimeler)\n",
        "girilenharfler =[]\n",
        "karakterGosterimi=\"_\"\n",
        "\n",
        "for kelime in secilenKelime:\n",
        "    girilenharfler.append(karakterGosterimi)\n",
        "print(girilenharfler)\n",
        "\n",
        "while hak>0:\n",
        "    alinanharf = input(\"Lütfen bir harf giriniz=\").lower()\n",
        "    if alinanharf in secilenKelime:\n",
        "        for kontrol in secilenKelime:\n",
        "            if alinanharf==secilenKelime[i]:\n",
        "                girilenharfler[i] = alinanharf\n",
        "            i +=1\n",
        "        print(girilenharfler)\n",
        "        i=0\n",
        "\n",
        "    kontrolEt= alinanharf in secilenKelime\n",
        "    if kontrolEt == False:\n",
        "        hak-=1\n",
        "    print(\"Kalan can sayınız=\", hak)\n",
        "    i=0\n",
        "\n",
        "    if hak == 0:\n",
        "     print(\"Oyunu kaybettiniz.Doğru kelime '{}' idi.\".format(secilenKelime))\n",
        "\n",
        "     break\n"
      ],
      "execution_count": 62,
      "outputs": [
        {
          "output_type": "stream",
          "text": [
            "['_', '_', '_', '_', '_', '_', '_', '_', '_']\n",
            "Lütfen bir harf giriniz=ç\n",
            "Kalan can sayınız= 2\n",
            "Lütfen bir harf giriniz=y\n",
            "['y', '_', '_', '_', '_', '_', '_', 'y', '_']\n",
            "Kalan can sayınız= 2\n",
            "Lütfen bir harf giriniz=e\n",
            "['y', 'e', '_', '_', '_', '_', '_', 'y', '_']\n",
            "Kalan can sayınız= 2\n",
            "Lütfen bir harf giriniz=r\n",
            "Kalan can sayınız= 1\n",
            "Lütfen bir harf giriniz=t\n",
            "Kalan can sayınız= 0\n",
            "Oyunu kaybettiniz.Doğru kelime 'yenidünya' idi.\n"
          ],
          "name": "stdout"
        }
      ]
    },
    {
      "cell_type": "markdown",
      "metadata": {
        "id": "2CVT1t4jqHDd",
        "colab_type": "text"
      },
      "source": [
        ""
      ]
    }
  ]
}