{
  "nbformat": 4,
  "nbformat_minor": 0,
  "metadata": {
    "colab": {
      "name": "Basit_katalog.ipynb",
      "provenance": [],
      "authorship_tag": "ABX9TyPTsU8sMro5YVlMzl7bR6zr",
      "include_colab_link": true
    },
    "kernelspec": {
      "name": "python3",
      "display_name": "Python 3"
    }
  },
  "cells": [
    {
      "cell_type": "markdown",
      "metadata": {
        "id": "view-in-github",
        "colab_type": "text"
      },
      "source": [
        "<a href=\"https://colab.research.google.com/github/bestedoganay/BBY162_2020/blob/master/Basit_katalog.ipynb\" target=\"_parent\"><img src=\"https://colab.research.google.com/assets/colab-badge.svg\" alt=\"Open In Colab\"/></a>"
      ]
    },
    {
      "cell_type": "code",
      "metadata": {
        "id": "VAvYNrhrZWql",
        "colab_type": "code",
        "colab": {
          "base_uri": "https://localhost:8080/",
          "height": 53
        },
        "outputId": "101b1280-8bff-401f-a4e5-19c58c0f2df9"
      },
      "source": [
        "from google.colab import drive\n",
        "drive.mount('/gdrive')\n",
        " \n",
        "dosya = \"/gdrive/My Drive/Colab Notebooks/proje2/kitap_listesi.txt\"\n",
        "\n",
        "f = open(dosya, 'a') \n",
        "kitapadi= input(\"Kitap giriniz: \" )\n",
        "yazaradi= input(\"Yazar adı giriniz: \" )\n",
        "ilkyayinyili=input(\"İlk yayın yılını giriniz: \")\n",
        "yayinevi= input(\"Yayınevini giriniz: \")\n",
        "\n",
        "f.write(\"\\n\" +kitapadi +\",\")\n",
        "f.write(yazaradi + \",\" )  \n",
        "f.write(ilkyayinyili+ \",\")\n",
        "f.write(yayinevi)\n",
        "\n",
        "\n",
        "f.close()\n",
        "\n",
        "f = open(dosya, \"r\") \n",
        "\n",
        "for line in f.readlines():\n",
        "    print(line)\n",
        "\n",
        "f.close()"
      ],
      "execution_count": 0,
      "outputs": [
        {
          "output_type": "stream",
          "text": [
            "Drive already mounted at /gdrive; to attempt to forcibly remount, call drive.mount(\"/gdrive\", force_remount=True).\n"
          ],
          "name": "stdout"
        }
      ]
    }
  ]
}